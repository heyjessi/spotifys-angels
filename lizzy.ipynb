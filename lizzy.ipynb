{
 "cells": [
  {
   "cell_type": "code",
   "execution_count": 1,
   "metadata": {},
   "outputs": [],
   "source": [
    "import random\n",
    "random.seed(112358)\n",
    "\n",
    "import numpy as np\n",
    "import pandas as pd\n",
    "import matplotlib.pyplot as plt\n",
    "\n",
    "from sklearn.model_selection import cross_val_score\n",
    "from sklearn.utils import resample\n",
    "from sklearn.tree import DecisionTreeClassifier\n",
    "\n",
    "from sklearn.ensemble import RandomForestClassifier\n",
    "from sklearn.ensemble import BaggingClassifier\n",
    "from sklearn.ensemble import AdaBoostClassifier\n",
    "\n",
    "from sklearn.linear_model import LogisticRegressionCV\n",
    "from sklearn.model_selection import train_test_split\n",
    "from sklearn.metrics import confusion_matrix\n",
    "from sklearn.preprocessing import scale\n",
    "from sklearn.preprocessing import MinMaxScaler\n",
    "from sklearn.preprocessing import StandardScaler\n",
    "from sklearn.metrics import roc_auc_score,accuracy_score\n",
    "from sklearn.model_selection import GridSearchCV\n",
    "from random import randint \n",
    "\n",
    "from sklearn import tree\n",
    "%matplotlib inline\n",
    "\n",
    "from pandas.plotting import scatter_matrix\n",
    "\n",
    "import seaborn as sns\n",
    "pd.set_option('display.width', 1500)\n",
    "pd.set_option('display.max_columns', 100)\n",
    "\n",
    "from sklearn.utils import shuffle\n",
    "\n",
    "\n",
    "from sklearn.tree import DecisionTreeRegressor\n",
    "from sklearn.ensemble import BaggingRegressor\n",
    "from sklearn.ensemble import RandomForestRegressor\n",
    "from sklearn.ensemble import GradientBoostingRegressor\n",
    "\n",
    "\n",
    "\n",
    "\n"
   ]
  },
  {
   "cell_type": "code",
   "execution_count": 5,
   "metadata": {},
   "outputs": [
    {
     "data": {
      "text/html": [
       "<div>\n",
       "<style scoped>\n",
       "    .dataframe tbody tr th:only-of-type {\n",
       "        vertical-align: middle;\n",
       "    }\n",
       "\n",
       "    .dataframe tbody tr th {\n",
       "        vertical-align: top;\n",
       "    }\n",
       "\n",
       "    .dataframe thead th {\n",
       "        text-align: right;\n",
       "    }\n",
       "</style>\n",
       "<table border=\"1\" class=\"dataframe\">\n",
       "  <thead>\n",
       "    <tr style=\"text-align: right;\">\n",
       "      <th></th>\n",
       "      <th>Unnamed: 0</th>\n",
       "      <th>Artist</th>\n",
       "      <th>Track Name</th>\n",
       "      <th>Track ID</th>\n",
       "      <th>Popularity</th>\n",
       "      <th>Acousticness</th>\n",
       "      <th>Danceability</th>\n",
       "      <th>Duration_ms</th>\n",
       "      <th>Energy</th>\n",
       "      <th>Instrumentalness</th>\n",
       "      <th>Key</th>\n",
       "      <th>Liveness</th>\n",
       "      <th>Loudness</th>\n",
       "      <th>Mode</th>\n",
       "      <th>Speechiness</th>\n",
       "      <th>Tempo</th>\n",
       "      <th>Time Signature</th>\n",
       "      <th>Valence</th>\n",
       "    </tr>\n",
       "  </thead>\n",
       "  <tbody>\n",
       "    <tr>\n",
       "      <th>0</th>\n",
       "      <td>0</td>\n",
       "      <td>Post Malone</td>\n",
       "      <td>Sunflower - Spider-Man: Into the Spider-Verse</td>\n",
       "      <td>3KkXRkHbMCARz0aVfEt68P</td>\n",
       "      <td>90</td>\n",
       "      <td>0.55600</td>\n",
       "      <td>0.760</td>\n",
       "      <td>158040</td>\n",
       "      <td>0.479</td>\n",
       "      <td>0.000000</td>\n",
       "      <td>2</td>\n",
       "      <td>0.0703</td>\n",
       "      <td>-5.574</td>\n",
       "      <td>1</td>\n",
       "      <td>0.0466</td>\n",
       "      <td>89.911</td>\n",
       "      <td>4</td>\n",
       "      <td>0.913</td>\n",
       "    </tr>\n",
       "    <tr>\n",
       "      <th>1</th>\n",
       "      <td>1</td>\n",
       "      <td>Lil Baby</td>\n",
       "      <td>Drip Too Hard (Lil Baby &amp; Gunna)</td>\n",
       "      <td>78QR3Wp35dqAhFEc2qAGjE</td>\n",
       "      <td>86</td>\n",
       "      <td>0.08520</td>\n",
       "      <td>0.897</td>\n",
       "      <td>145543</td>\n",
       "      <td>0.662</td>\n",
       "      <td>0.000000</td>\n",
       "      <td>1</td>\n",
       "      <td>0.5340</td>\n",
       "      <td>-6.903</td>\n",
       "      <td>0</td>\n",
       "      <td>0.2920</td>\n",
       "      <td>112.511</td>\n",
       "      <td>4</td>\n",
       "      <td>0.389</td>\n",
       "    </tr>\n",
       "    <tr>\n",
       "      <th>2</th>\n",
       "      <td>2</td>\n",
       "      <td>Travis Scott</td>\n",
       "      <td>SICKO MODE</td>\n",
       "      <td>2xLMifQCjDGFmkHkpNLD9h</td>\n",
       "      <td>89</td>\n",
       "      <td>0.00513</td>\n",
       "      <td>0.834</td>\n",
       "      <td>312820</td>\n",
       "      <td>0.730</td>\n",
       "      <td>0.000000</td>\n",
       "      <td>8</td>\n",
       "      <td>0.1240</td>\n",
       "      <td>-3.714</td>\n",
       "      <td>1</td>\n",
       "      <td>0.2220</td>\n",
       "      <td>155.008</td>\n",
       "      <td>4</td>\n",
       "      <td>0.446</td>\n",
       "    </tr>\n",
       "    <tr>\n",
       "      <th>3</th>\n",
       "      <td>3</td>\n",
       "      <td>Juice WRLD</td>\n",
       "      <td>Lucid Dreams</td>\n",
       "      <td>285pBltuF7vW8TeWk8hdRR</td>\n",
       "      <td>88</td>\n",
       "      <td>0.34900</td>\n",
       "      <td>0.511</td>\n",
       "      <td>239836</td>\n",
       "      <td>0.566</td>\n",
       "      <td>0.000000</td>\n",
       "      <td>6</td>\n",
       "      <td>0.3400</td>\n",
       "      <td>-7.230</td>\n",
       "      <td>0</td>\n",
       "      <td>0.2000</td>\n",
       "      <td>83.903</td>\n",
       "      <td>4</td>\n",
       "      <td>0.218</td>\n",
       "    </tr>\n",
       "    <tr>\n",
       "      <th>4</th>\n",
       "      <td>4</td>\n",
       "      <td>YNW Melly</td>\n",
       "      <td>Murder On My Mind</td>\n",
       "      <td>7eBqSVxrzQZtK2mmgRG6lC</td>\n",
       "      <td>86</td>\n",
       "      <td>0.14500</td>\n",
       "      <td>0.759</td>\n",
       "      <td>268434</td>\n",
       "      <td>0.730</td>\n",
       "      <td>0.000003</td>\n",
       "      <td>0</td>\n",
       "      <td>0.1100</td>\n",
       "      <td>-7.985</td>\n",
       "      <td>0</td>\n",
       "      <td>0.0516</td>\n",
       "      <td>115.007</td>\n",
       "      <td>4</td>\n",
       "      <td>0.740</td>\n",
       "    </tr>\n",
       "  </tbody>\n",
       "</table>\n",
       "</div>"
      ],
      "text/plain": [
       "   Unnamed: 0        Artist                                     Track Name                Track ID  Popularity  Acousticness  Danceability  Duration_ms  Energy  Instrumentalness  Key  Liveness  Loudness  Mode  Speechiness    Tempo  Time Signature  Valence\n",
       "0           0   Post Malone  Sunflower - Spider-Man: Into the Spider-Verse  3KkXRkHbMCARz0aVfEt68P          90       0.55600         0.760       158040   0.479          0.000000    2    0.0703    -5.574     1       0.0466   89.911               4    0.913\n",
       "1           1      Lil Baby               Drip Too Hard (Lil Baby & Gunna)  78QR3Wp35dqAhFEc2qAGjE          86       0.08520         0.897       145543   0.662          0.000000    1    0.5340    -6.903     0       0.2920  112.511               4    0.389\n",
       "2           2  Travis Scott                                     SICKO MODE  2xLMifQCjDGFmkHkpNLD9h          89       0.00513         0.834       312820   0.730          0.000000    8    0.1240    -3.714     1       0.2220  155.008               4    0.446\n",
       "3           3    Juice WRLD                                   Lucid Dreams  285pBltuF7vW8TeWk8hdRR          88       0.34900         0.511       239836   0.566          0.000000    6    0.3400    -7.230     0       0.2000   83.903               4    0.218\n",
       "4           4     YNW Melly                              Murder On My Mind  7eBqSVxrzQZtK2mmgRG6lC          86       0.14500         0.759       268434   0.730          0.000003    0    0.1100    -7.985     0       0.0516  115.007               4    0.740"
      ]
     },
     "execution_count": 5,
     "metadata": {},
     "output_type": "execute_result"
    }
   ],
   "source": [
    "songs_df = pd.read_csv('data/songs_all_decade_clean.csv')\n",
    "\n",
    "songs_df.head()"
   ]
  },
  {
   "cell_type": "markdown",
   "metadata": {},
   "source": [
    "# CLASSIFICATION"
   ]
  },
  {
   "cell_type": "code",
   "execution_count": 6,
   "metadata": {},
   "outputs": [],
   "source": [
    "# create new binary response variable 'tophit'\n",
    "# classify as top hit if popularity > 60 (about halfway split)\n",
    "songs_df['tophit'] = np.where(songs_df['Popularity'] > 60, 1, 0)\n",
    "\n"
   ]
  },
  {
   "cell_type": "code",
   "execution_count": 8,
   "metadata": {},
   "outputs": [],
   "source": [
    "# prepare for modeling\n",
    "songs_df_clean = songs_df.drop(columns = ['Artist', 'Track Name', 'Track ID', 'Popularity'])\n",
    "\n",
    "X_train, X_test, y_train, y_test = train_test_split(songs_df_clean.loc[:, songs_df_clean.columns != 'tophit'], \n",
    "                                                    songs_df_clean.tophit, test_size = 0.2, \n",
    "                                                    random_state = 100, stratify = songs_df_clean.tophit)\n",
    "\n"
   ]
  },
  {
   "cell_type": "code",
   "execution_count": 9,
   "metadata": {},
   "outputs": [],
   "source": [
    "# fit cross-validated single decision tree\n",
    "depths = list(range(1, 21))\n",
    "\n",
    "def calc_meanstd(X_train, y_train, depths):\n",
    "    cvmeans = {}\n",
    "    cvstds = {}\n",
    "    train_scores = {}\n",
    "    for i in depths:\n",
    "        model = DecisionTreeClassifier(max_depth = i)\n",
    "        model.fit(X_train, y_train)\n",
    "        y_pred = model.predict(X_train)\n",
    "        # get training set scores\n",
    "        train_scores[i] = accuracy_score(y_train, y_pred)\n",
    "        # get cross-validation scores\n",
    "        score = cross_val_score(estimator = model, X = X_train, y = y_train, cv = 5, n_jobs = -1)\n",
    "        cvmeans[i] = score.mean()\n",
    "        cvstds[i] = score.std()\n",
    "    return cvmeans, cvstds, train_scores\n",
    "\n",
    "cvmeans, cvstds, train_scores = calc_meanstd(X_train, y_train, depths)"
   ]
  },
  {
   "cell_type": "code",
   "execution_count": 10,
   "metadata": {},
   "outputs": [
    {
     "name": "stdout",
     "output_type": "stream",
     "text": [
      "Best depth: 5\n",
      "Classification accuracy on training set: 0.884375\n",
      "Classification accuracy on test set: 0.8805\n"
     ]
    }
   ],
   "source": [
    "# report best tree depth from cross-validation\n",
    "best_depth = sorted(cvmeans, key = cvmeans.get, reverse = True)[0]\n",
    "print('Best depth:', best_depth)\n",
    "\n",
    "# refit on best tree depth, then report classification accuracies\n",
    "best_model = DecisionTreeClassifier(max_depth = best_depth)\n",
    "best_model.fit(X_train, y_train)\n",
    "\n",
    "y_train_pred = best_model.predict(X_train)\n",
    "best_cv_tree_train_score = accuracy_score(y_train, y_train_pred)\n",
    "print('Classification accuracy on training set:', best_cv_tree_train_score)\n",
    "\n",
    "y_test_pred = best_model.predict(X_test)\n",
    "best_cv_tree_test_score = accuracy_score(y_test, y_test_pred)\n",
    "print('Classification accuracy on test set:', best_cv_tree_test_score)"
   ]
  },
  {
   "cell_type": "markdown",
   "metadata": {},
   "source": [
    "### BAGGING"
   ]
  },
  {
   "cell_type": "code",
   "execution_count": 39,
   "metadata": {},
   "outputs": [
    {
     "name": "stdout",
     "output_type": "stream",
     "text": [
      "# Trees: 55\n",
      "Depth: 10\n",
      "Classification accuracy on training set: 0.9998125\n",
      "Classification accuracy on test set: 0.88375\n"
     ]
    }
   ],
   "source": [
    "# using bagging classifier\n",
    "fitted_bag = BaggingClassifier(n_estimators=50, random_state=0).fit(X_train,y_train)\n",
    "bag_train_score = fitted_bag.score(X_train, y_train)\n",
    "bag_test_score = fitted_bag.score(X_test, y_test)\n",
    "\n",
    "\n",
    "print('Classification accuracy on training set:', bag_train_score)\n",
    "print('Classification accuracy on test set:', bag_test_score)\n",
    "\n"
   ]
  },
  {
   "cell_type": "markdown",
   "metadata": {},
   "source": [
    "### RANDOM FOREST"
   ]
  },
  {
   "cell_type": "code",
   "execution_count": 22,
   "metadata": {},
   "outputs": [
    {
     "name": "stdout",
     "output_type": "stream",
     "text": [
      "# Trees: 55\n",
      "Depth: 10\n",
      "Classification accuracy on training set: 0.901\n",
      "Classification accuracy on test set: 0.88525\n"
     ]
    }
   ],
   "source": [
    "fitted_rf = RandomForestClassifier(n_estimators=50, max_features='sqrt', max_depth=10).fit(X_train,y_train)\n",
    "random_forest_train_score = fitted_rf.score(X_train, y_train)\n",
    "random_forest_test_score = fitted_rf.score(X_test, y_test)\n",
    "\n",
    "\n",
    "print('Classification accuracy on training set:', random_forest_train_score)\n",
    "print('Classification accuracy on test set:', random_forest_test_score)\n",
    "\n"
   ]
  },
  {
   "cell_type": "markdown",
   "metadata": {},
   "source": [
    "# BOOSTING"
   ]
  },
  {
   "cell_type": "code",
   "execution_count": 25,
   "metadata": {},
   "outputs": [],
   "source": [
    "clfs = {}\n",
    "train_scores = {}\n",
    "test_scores = {}\n",
    "for depth in (1,2,3,4):\n",
    "    fitted_ada = AdaBoostClassifier(\n",
    "        base_estimator=DecisionTreeClassifier(max_depth=depth),\n",
    "        n_estimators=800,\n",
    "        learning_rate=.05).fit(X_train, y_train)\n",
    "    train_scores[depth] = list(fitted_ada.staged_score(X_train, y_train))\n",
    "    test_scores[depth] = list(fitted_ada.staged_score(X_test, y_test))\n",
    "    clfs[depth] = fitted_ada\n",
    "    "
   ]
  },
  {
   "cell_type": "code",
   "execution_count": 26,
   "metadata": {},
   "outputs": [
    {
     "data": {
      "image/png": "[encoded data removed]",
      "text/plain": [
       "<Figure size 1440x720 with 4 Axes>"
      ]
     },
     "metadata": {
      "needs_background": "light"
     },
     "output_type": "display_data"
    }
   ],
   "source": [
    "fig, axs = plt.subplots(1, 4, figsize=(20,10), sharey=True)\n",
    "for ax, depth in zip(axs, (1,2,3,4)):\n",
    "    ax.plot(train_scores[depth], label='train')\n",
    "    ax.plot(test_scores[depth], label='test')\n",
    "    ax.set(xlabel='Iteration', ylabel='Accuracy', title=f\"max_depth={depth}\")\n",
    "    ax.legend()\n",
    "plt.suptitle(\"Accuracy of AdaBoost as Training Progresses\");"
   ]
  },
  {
   "cell_type": "code",
   "execution_count": 27,
   "metadata": {},
   "outputs": [],
   "source": [
    "best_ada = AdaBoostClassifier(base_estimator=DecisionTreeClassifier(max_depth=3),\n",
    "        n_estimators=250,\n",
    "        learning_rate=.05).fit(X_train, y_train)\n",
    "best_ada_train_score = best_ada.score(X_train, y_train)\n",
    "best_ada_test_score = best_ada.score(X_test, y_test)\n",
    "\n"
   ]
  },
  {
   "cell_type": "code",
   "execution_count": 29,
   "metadata": {},
   "outputs": [
    {
     "name": "stdout",
     "output_type": "stream",
     "text": [
      "Max Depth: 2\n",
      "# Estimators: 225\n",
      "Classification accuracy on training set: 0.8848125\n",
      "Classification accuracy on test set: 0.88575\n"
     ]
    }
   ],
   "source": [
    "\n",
    "print('Classification accuracy on training set:', best_ada_train_score)\n",
    "print('Classification accuracy on test set:', best_ada_test_score)\n"
   ]
  },
  {
   "cell_type": "markdown",
   "metadata": {},
   "source": [
    "### LOGIT"
   ]
  },
  {
   "cell_type": "code",
   "execution_count": 31,
   "metadata": {},
   "outputs": [
    {
     "name": "stdout",
     "output_type": "stream",
     "text": [
      "Penalty: LASSO\n",
      "Classification accuracy on training set: 0.871375\n",
      "Classification accuracy on test set: 0.87725\n"
     ]
    }
   ],
   "source": [
    "logit = LogisticRegressionCV( solver='liblinear', penalty='l1', multiclass='ovr', cv=5)\n",
    "logit.fit(X_train, y_train)\n",
    "\n",
    "log_y_train_pred = logit.predict(X_train) \n",
    "log_y_test_pred = logit.predict(X_test)\n",
    "\n",
    "log_train_score = accuracy_score(y_train, log_y_train_pred)\n",
    "log_test_score = accuracy_score(y_test, log_y_test_pred)\n",
    "\n",
    "print('Penalty: LASSO')\n",
    "print('Classification accuracy on training set:', log_train_score)\n",
    "print('Classification accuracy on test set:', log_test_score)\n"
   ]
  },
  {
   "cell_type": "markdown",
   "metadata": {},
   "source": [
    "# REGRESSION"
   ]
  },
  {
   "cell_type": "code",
   "execution_count": 34,
   "metadata": {},
   "outputs": [],
   "source": [
    "# prepare for modeling\n",
    "songs_df_clean2 = songs_df.drop(columns = ['Artist', 'Track Name', 'Track ID'])\n",
    "\n",
    "X_train_2, X_test_2, y_train_2, y_test_2 = train_test_split(songs_df_clean2.loc[:, songs_df_clean.columns != 'Popularity'], \n",
    "                                                    songs_df_clean2.Popularity, test_size = 0.2, \n",
    "                                                    random_state = 100)\n",
    "\n"
   ]
  },
  {
   "cell_type": "code",
   "execution_count": null,
   "metadata": {},
   "outputs": [],
   "source": [
    "# standardization and get dummies for key and time signature"
   ]
  },
  {
   "cell_type": "markdown",
   "metadata": {},
   "source": [
    "### SINGLE TREE"
   ]
  },
  {
   "cell_type": "code",
   "execution_count": 36,
   "metadata": {},
   "outputs": [
    {
     "name": "stdout",
     "output_type": "stream",
     "text": [
      "R^2 on training set: 1.0\n",
      "R^2 on test set: 0.9999959073751873\n"
     ]
    }
   ],
   "source": [
    "tree_reg = DecisionTreeRegressor(criterion='mse', splitter='best').fit(X_train_2, y_train_2)\n",
    "\n",
    "tree_reg_train_score = tree_reg.score(X_train_2, y_train_2)\n",
    "print('R^2 on training set:', tree_reg_train_score)\n",
    "\n",
    "\n",
    "tree_reg_test_score = tree_reg.score(X_test_2, y_test_2)\n",
    "print('R^2 on test set:', tree_reg_test_score)\n",
    "\n"
   ]
  },
  {
   "cell_type": "markdown",
   "metadata": {},
   "source": [
    "### BAGGING"
   ]
  },
  {
   "cell_type": "code",
   "execution_count": 40,
   "metadata": {},
   "outputs": [
    {
     "name": "stdout",
     "output_type": "stream",
     "text": [
      "R^2 on training set: 0.9999993469427712\n",
      "R^2 on test set: 0.9999982401713305\n"
     ]
    }
   ],
   "source": [
    "bag_reg = BaggingRegressor(n_estimators=10, random_state=0).fit(X_train_2, y_train_2)\n",
    "\n",
    "bag_reg_train_score = bag_reg.score(X_train_2, y_train_2)\n",
    "print('R^2 on training set:', bag_reg_train_score)\n",
    "\n",
    "bag_reg_test_score = bag_reg.score(X_test_2, y_test_2)\n",
    "print('R^2 on test set:', bag_reg_test_score)\n"
   ]
  },
  {
   "cell_type": "markdown",
   "metadata": {},
   "source": [
    "### RANDOM FOREST"
   ]
  },
  {
   "cell_type": "code",
   "execution_count": 44,
   "metadata": {},
   "outputs": [
    {
     "name": "stdout",
     "output_type": "stream",
     "text": [
      "R^2 on training set: 0.9999997541851775\n",
      "R^2 on test set: 0.9999979901119544\n"
     ]
    }
   ],
   "source": [
    "rf_reg = RandomForestRegressor(n_estimators=100, criterion='mse').fit(X_train_2, y_train_2)\n",
    "\n",
    "rf_reg_train_score = rf_reg.score(X_train_2, y_train_2)\n",
    "print('R^2 on training set:', rf_reg_train_score)\n",
    "\n",
    "rf_reg_test_score = rf_reg.score(X_test_2, y_test_2)\n",
    "print('R^2 on test set:', rf_reg_test_score)\n",
    "\n",
    "\n"
   ]
  },
  {
   "cell_type": "code",
   "execution_count": 46,
   "metadata": {},
   "outputs": [
    {
     "name": "stdout",
     "output_type": "stream",
     "text": [
      "R^2 on training set: 0.9999999949446787\n",
      "R^2 on test set: 0.9999999937147233\n"
     ]
    }
   ],
   "source": [
    "boost_reg = GradientBoostingRegressor(loss='ls', learning_rate=0.1, n_estimators=100).fit(X_train_2, y_train_2)\n",
    "\n",
    "boost_reg_train_score = boost_reg.score(X_train_2, y_train_2)\n",
    "print('R^2 on training set:', boost_reg_train_score)\n",
    "\n",
    "boost_reg_test_score = boost_reg.score(X_test_2, y_test_2)\n",
    "print('R^2 on test set:', boost_reg_test_score)\n",
    "\n"
   ]
  },
  {
   "cell_type": "code",
   "execution_count": null,
   "metadata": {},
   "outputs": [],
   "source": [
    "import spotipy\n",
    "from spotipy.oauth2 import SpotifyClientCredentials\n",
    "import pandas as pd\n",
    "import numpy as np"
   ]
  },
  {
   "cell_type": "code",
   "execution_count": null,
   "metadata": {},
   "outputs": [],
   "source": [
    "\n",
    "cid = '304f47a7973c446fa4cc490eaec6d061'\n",
    "secret = 'f70927ac3cf14606b2aa54d4217ccf35'\n",
    "\n",
    "client_credentials_manager = SpotifyClientCredentials(client_id = cid, client_secret = secret)\n",
    "sp = spotipy.Spotify(client_credentials_manager = client_credentials_manager)"
   ]
  },
  {
   "cell_type": "code",
   "execution_count": null,
   "metadata": {},
   "outputs": [],
   "source": [
    "sp.search(q = 'year:2019', type = 'track', limit = 50)['tracks']['items'][0]['album']['release_date']"
   ]
  },
  {
   "cell_type": "code",
   "execution_count": null,
   "metadata": {},
   "outputs": [],
   "source": [
    "\n",
    "artist_name, track_name, track_id, popularity, release_date = [], [], [], [], []\n",
    "for i in range(0, 10000, 50):\n",
    "    track_results = sp.search(q = 'year:2019', type = 'track', limit = 50, offset = i)\n",
    "    audio_features = sp.audio_features(track_id[i : i + 50])\n",
    "    for i, t in enumerate(track_results['tracks']['items']):\n",
    "        print(t['artists'][0]['name'])\n",
    "        artist_name.append(t['artists'][0]['name'])\n",
    "        track_name.append(t['name'])\n",
    "        track_id.append(t['id'])\n",
    "        popularity.append(t['popularity'])\n",
    "        release_date.append(t['album']['release_date'])"
   ]
  },
  {
   "cell_type": "code",
   "execution_count": null,
   "metadata": {},
   "outputs": [],
   "source": [
    "acousticness, danceability, duration_ms, energy, instrumentalness = [], [], [], [], []\n",
    "key, liveness, loudness, mode, speechiness = [], [], [], [], []\n",
    "tempo, time_signature, valence = [], [], []\n",
    "\n",
    "for i in range(0, len(track_id), 50):\n",
    "    audio_features = sp.audio_features(track_id[i : i + 50])\n",
    "    for track in audio_features:\n",
    "        try:\n",
    "            acousticness.append(track['acousticness'])\n",
    "            danceability.append(track['danceability'])\n",
    "            duration_ms.append(track['duration_ms'])\n",
    "            energy.append(track['energy'])\n",
    "            instrumentalness.append(track['instrumentalness'])\n",
    "            key.append(track['key'])\n",
    "            liveness.append(track['liveness'])\n",
    "            loudness.append(track['loudness'])\n",
    "            mode.append(track['mode'])\n",
    "            speechiness.append(track['speechiness'])\n",
    "            tempo.append(track['tempo'])\n",
    "            time_signature.append(track['time_signature'])\n",
    "            valence.append(track['valence'])\n",
    "        except TypeError:\n",
    "            acousticness.append(np.nan)\n",
    "            danceability.append(np.nan)\n",
    "            duration_ms.append(np.nan)\n",
    "            energy.append(np.nan)\n",
    "            instrumentalness.append(np.nan)\n",
    "            key.append(np.nan)\n",
    "            liveness.append(np.nan)\n",
    "            loudness.append(np.nan)\n",
    "            mode.append(np.nan)\n",
    "            speechiness.append(np.nan)\n",
    "            tempo.append(np.nan)\n",
    "            time_signature.append(np.nan)\n",
    "            valence.append(np.nan)"
   ]
  },
  {
   "cell_type": "code",
   "execution_count": null,
   "metadata": {},
   "outputs": [],
   "source": [
    "data = {'Artist': artist_name, 'Track Name': track_name, 'Track ID': track_id, 'Popularity': popularity, 'Release Date': release_date,\n",
    "       'Acousticness': acousticness, 'Danceability': danceability, 'Duration_ms': duration_ms, \n",
    "       'Energy': energy, 'Instrumentalness': instrumentalness, 'Key': key, 'Liveness': liveness,\n",
    "       'Loudness': loudness, 'Mode': mode, 'Speechiness': speechiness, 'Tempo': tempo, \n",
    "       'Time Signature': time_signature, 'Valence': valence}\n",
    "spotify_df = pd.DataFrame(data)\n",
    "spotify_df = spotify_df[pd.notnull(spotify_df['Acousticness'])]\n",
    "spotify_df.head()"
   ]
  },
  {
   "cell_type": "code",
   "execution_count": null,
   "metadata": {},
   "outputs": [],
   "source": [
    "spotify_df.to_csv(\"data/new_music_test.csv\", index=False)\n"
   ]
  },
  {
   "cell_type": "code",
   "execution_count": null,
   "metadata": {},
   "outputs": [],
   "source": [
    "new_music = pd.read_csv('data/new_music_test.csv')\n",
    "\n",
    "new_music['Release Date'] = pd.to_datetime(new_music['Release Date']) \n",
    "\n",
    "mask = (new_music['Release Date'] >= '2019-11-29') & (new_music['Release Date'] <= '2019-12-06')\n",
    "\n",
    "new_music = new_music.loc[mask]\n",
    "\n",
    "new_music.to_csv('data/new_music_test_clean.csv', index=False)"
   ]
  },
  {
   "cell_type": "markdown",
   "metadata": {},
   "source": [
    "# NEW MUSIC TEST"
   ]
  },
  {
   "cell_type": "code",
   "execution_count": 2,
   "metadata": {},
   "outputs": [],
   "source": [
    "songs_df = pd.read_csv('data/songs_all_decade_clean.csv')\n",
    "\n",
    "songs_df_clean = songs_df.drop(columns = ['Artist', 'Track Name', 'Track ID'])\n",
    "\n",
    "X_train_2, X_test_2, y_train_2, y_test_2 = train_test_split(songs_df_clean.loc[:, songs_df_clean.columns != 'Popularity'], \n",
    "                                                    songs_df_clean.Popularity, test_size = 0.2, \n",
    "                                                    random_state = 100)\n",
    "\n"
   ]
  },
  {
   "cell_type": "code",
   "execution_count": null,
   "metadata": {},
   "outputs": [],
   "source": [
    "# regression\n",
    "rf_fitted = RandomForestRegressor(n_estimators=100, criterion='mse').fit(X_train_2, y_train_2)\n"
   ]
  },
  {
   "cell_type": "code",
   "execution_count": 7,
   "metadata": {},
   "outputs": [],
   "source": [
    "new_music_df = pd.read_csv('data/new_music_test_clean.csv')\n",
    "new_friday_df = pd.read_csv('data/new_music_friday.csv')\n",
    "\n",
    "new_music_clean_df = new_music_df.drop(columns=['Artist', 'Track Name', 'Track ID','Popularity', 'Release Date'])"
   ]
  },
  {
   "cell_type": "code",
   "execution_count": 9,
   "metadata": {},
   "outputs": [],
   "source": [
    "new_music_preds = rf_fitted.predict(new_music_clean_df)\n",
    "\n",
    "idx = np.argsort(-new_music_preds)[:100]"
   ]
  },
  {
   "cell_type": "code",
   "execution_count": 11,
   "metadata": {},
   "outputs": [
    {
     "data": {
      "text/plain": [
       "array(['PAID MY DUES', 'Good On You', 'Admit Defeat', 'Ay Ya Ya Ya',\n",
       "       'Sorry Mama'], dtype=object)"
      ]
     },
     "execution_count": 11,
     "metadata": {},
     "output_type": "execute_result"
    }
   ],
   "source": [
    "top99 = new_music_df[['Track Name']].values[idx]\n",
    "topfriday = new_friday_df[['Track Name']].values\n",
    "\n",
    "mask = np.isin(top99, topfriday)\n",
    "\n",
    "top99[mask]\n"
   ]
  },
  {
   "cell_type": "code",
   "execution_count": 12,
   "metadata": {},
   "outputs": [],
   "source": [
    "songs_df = pd.read_csv('data/songs_all_decade_clean.csv')\n",
    "\n",
    "songs_df['tophit'] = np.where(songs_df['Popularity'] > 60, 1, 0)\n"
   ]
  },
  {
   "cell_type": "code",
   "execution_count": 13,
   "metadata": {},
   "outputs": [],
   "source": [
    "songs_df_clean = songs_df.drop(columns = ['Artist', 'Track Name', 'Track ID', 'Popularity'])\n",
    "\n",
    "X_train, X_test, y_train, y_test = train_test_split(songs_df_clean.loc[:, songs_df_clean.columns != 'tophit'], \n",
    "                                                    songs_df_clean.tophit, test_size = 0.2, \n",
    "                                                    random_state = 100, stratify = songs_df_clean.tophit)"
   ]
  },
  {
   "cell_type": "code",
   "execution_count": 14,
   "metadata": {},
   "outputs": [],
   "source": [
    "bag_fit = BaggingClassifier(n_estimators=50, random_state=0).fit(X_train,y_train)"
   ]
  },
  {
   "cell_type": "code",
   "execution_count": 15,
   "metadata": {},
   "outputs": [],
   "source": [
    "new_music_df = pd.read_csv('data/new_music_test_clean.csv')\n",
    "new_friday_df = pd.read_csv('data/new_music_friday.csv')\n",
    "\n",
    "new_music_clean_df = new_music_df.drop(columns=['Artist', 'Track Name', 'Track ID','Popularity', 'Release Date'])"
   ]
  },
  {
   "cell_type": "code",
   "execution_count": 20,
   "metadata": {},
   "outputs": [
    {
     "data": {
      "text/plain": [
       "array(['PAID MY DUES', 'Inside Out', 'Texas Sun'], dtype=object)"
      ]
     },
     "execution_count": 20,
     "metadata": {},
     "output_type": "execute_result"
    }
   ],
   "source": [
    "new_music_preds = bag_fit.predict(new_music_clean_df)\n",
    "\n",
    "idx = np.where(new_music_preds==1)\n",
    "\n",
    "pop = new_music_df[['Track Name']].values[idx]\n",
    "\n",
    "topfriday = new_friday_df[['Track Name']].values\n",
    "\n",
    "mask = np.isin(pop, topfriday)\n",
    "\n",
    "pop[mask]\n"
   ]
  },
  {
   "cell_type": "code",
   "execution_count": null,
   "metadata": {},
   "outputs": [],
   "source": []
  },
  {
   "cell_type": "markdown",
   "metadata": {},
   "source": [
    "---"
   ]
  }
 ],
 "metadata": {
  "kernelspec": {
   "display_name": "Python 3",
   "language": "python",
   "name": "python3"
  },
  "language_info": {
   "codemirror_mode": {
    "name": "ipython",
    "version": 3
   },
   "file_extension": ".py",
   "mimetype": "text/x-python",
   "name": "python",
   "nbconvert_exporter": "python",
   "pygments_lexer": "ipython3",
   "version": "3.7.4"
  }
 },
 "nbformat": 4,
 "nbformat_minor": 2
}
