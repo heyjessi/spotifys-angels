{
 "cells": [
  {
   "cell_type": "code",
   "execution_count": 1,
   "metadata": {},
   "outputs": [],
   "source": [
    "import random\n",
    "random.seed(112358)\n",
    "\n",
    "import numpy as np\n",
    "import pandas as pd\n",
    "import matplotlib.pyplot as plt\n",
    "\n",
    "from sklearn.model_selection import cross_val_score\n",
    "from sklearn.utils import resample\n",
    "from sklearn.tree import DecisionTreeClassifier\n",
    "from sklearn.ensemble import RandomForestClassifier\n",
    "from sklearn.ensemble import AdaBoostClassifier\n",
    "from sklearn.linear_model import LogisticRegressionCV\n",
    "from sklearn.model_selection import train_test_split\n",
    "from sklearn.metrics import confusion_matrix\n",
    "from sklearn.preprocessing import scale\n",
    "from sklearn.preprocessing import MinMaxScaler\n",
    "from sklearn.preprocessing import StandardScaler\n",
    "from sklearn.metrics import roc_auc_score,accuracy_score\n",
    "from sklearn.model_selection import GridSearchCV\n",
    "from random import randint \n",
    "\n",
    "from sklearn import tree\n",
    "%matplotlib inline\n",
    "\n",
    "from pandas.plotting import scatter_matrix\n",
    "\n",
    "import seaborn as sns\n",
    "pd.set_option('display.width', 1500)\n",
    "pd.set_option('display.max_columns', 100)\n",
    "\n",
    "from sklearn.utils import shuffle"
   ]
  },
  {
   "cell_type": "code",
   "execution_count": null,
   "metadata": {},
   "outputs": [],
   "source": [
    "# read in 2018 songs\n",
    "songs_df = pd.read_csv('data/songs_10000.csv')\n",
    "songs_df.head()"
   ]
  },
  {
   "cell_type": "code",
   "execution_count": null,
   "metadata": {},
   "outputs": [],
   "source": [
    "# drop additional index column\n",
    "songs_df = songs_df.drop(columns = 'Unnamed: 0')\n",
    "\n",
    "# calculate summary statistics\n",
    "display(songs_df.describe())\n",
    "\n",
    "# print out variable types\n",
    "print(songs_df.dtypes)"
   ]
  },
  {
   "cell_type": "code",
   "execution_count": null,
   "metadata": {},
   "outputs": [],
   "source": [
    "# matrix of pairwise scatterplots\n",
    "scatter_matrix(songs_df, alpha = 0.8, figsize = (30, 20), diagonal = 'kde')"
   ]
  },
  {
   "cell_type": "code",
   "execution_count": null,
   "metadata": {},
   "outputs": [],
   "source": [
    "# create new binary response variable 'tophit'\n",
    "# classify as top hit if popularity > 60 (about halfway split)\n",
    "songs_df['tophit'] = np.where(songs_df['Popularity'] > 60, 1, 0)"
   ]
  },
  {
   "cell_type": "code",
   "execution_count": null,
   "metadata": {},
   "outputs": [],
   "source": [
    "# prepare for modeling\n",
    "songs_df_clean = songs_df.drop(columns = ['Artist', 'Track Name', 'Track ID', 'Popularity'])\n",
    "\n",
    "X_train, X_test, y_train, y_test = train_test_split(songs_df_clean.loc[:, songs_df_clean.columns != 'tophit'], \n",
    "                                                    songs_df_clean.tophit, test_size = 0.2, \n",
    "                                                    random_state = 100, stratify = songs_df_clean.tophit)"
   ]
  },
  {
   "cell_type": "code",
   "execution_count": null,
   "metadata": {},
   "outputs": [],
   "source": [
    "# fit cross-validated single decision tree\n",
    "depths = list(range(1, 21))\n",
    "\n",
    "def calc_meanstd(X_train, y_train, depths):\n",
    "    cvmeans = {}\n",
    "    cvstds = {}\n",
    "    train_scores = {}\n",
    "    for i in depths:\n",
    "        model = DecisionTreeClassifier(max_depth = i)\n",
    "        model.fit(X_train, y_train)\n",
    "        y_pred = model.predict(X_train)\n",
    "        # get training set scores\n",
    "        train_scores[i] = accuracy_score(y_train, y_pred)\n",
    "        # get cross-validation scores\n",
    "        score = cross_val_score(estimator = model, X = X_train, y = y_train, cv = 5, n_jobs = -1)\n",
    "        cvmeans[i] = score.mean()\n",
    "        cvstds[i] = score.std()\n",
    "    return cvmeans, cvstds, train_scores\n",
    "\n",
    "cvmeans, cvstds, train_scores = calc_meanstd(X_train, y_train, depths)"
   ]
  },
  {
   "cell_type": "code",
   "execution_count": null,
   "metadata": {},
   "outputs": [],
   "source": [
    "# report best tree depth from cross-validation\n",
    "best_depth = sorted(cvmeans, key = cvmeans.get, reverse = True)[0]\n",
    "print('Best depth:', best_depth)\n",
    "\n",
    "# refit on best tree depth, then report classification accuracies\n",
    "best_model = DecisionTreeClassifier(max_depth = best_depth)\n",
    "best_model.fit(X_train, y_train)\n",
    "\n",
    "y_train_pred = best_model.predict(X_train)\n",
    "best_cv_tree_train_score = accuracy_score(y_train, y_train_pred)\n",
    "print('Classification accuracy on training set:', best_cv_tree_train_score)\n",
    "\n",
    "y_test_pred = best_model.predict(X_test)\n",
    "best_cv_tree_test_score = accuracy_score(y_test, y_test_pred)\n",
    "print('Classification accuracy on test set:', best_cv_tree_test_score)"
   ]
  }
 ],
 "metadata": {
  "kernelspec": {
   "display_name": "Python 3",
   "language": "python",
   "name": "python3"
  },
  "language_info": {
   "codemirror_mode": {
    "name": "ipython",
    "version": 3
   },
   "file_extension": ".py",
   "mimetype": "text/x-python",
   "name": "python",
   "nbconvert_exporter": "python",
   "pygments_lexer": "ipython3",
   "version": "3.7.1"
  }
 },
 "nbformat": 4,
 "nbformat_minor": 2
}
