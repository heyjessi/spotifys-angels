{
 "cells": [
  {
   "cell_type": "code",
   "execution_count": 1,
   "metadata": {},
   "outputs": [],
   "source": [
    "import spotipy\n",
    "from spotipy.oauth2 import SpotifyClientCredentials\n",
    "import pandas as pd"
   ]
  },
  {
   "cell_type": "code",
   "execution_count": 2,
   "metadata": {},
   "outputs": [],
   "source": [
    "cid = '304f47a7973c446fa4cc490eaec6d061'\n",
    "secret = 'f70927ac3cf14606b2aa54d4217ccf35'\n",
    "\n",
    "client_credentials_manager = SpotifyClientCredentials(client_id = cid, client_secret = secret)\n",
    "sp = spotipy.Spotify(client_credentials_manager = client_credentials_manager)\n",
    "artist_name, track_name, track_id, popularity = [], [], [], []"
   ]
  },
  {
   "cell_type": "code",
   "execution_count": 3,
   "metadata": {},
   "outputs": [],
   "source": [
    "for i in range(0, 10000, 50):\n",
    "    track_results = sp.search(q = 'year:2017', type = 'track', limit = 50, offset = i)\n",
    "    audio_features = sp.audio_features(track_id[i : i + 50])\n",
    "    for i, t in enumerate(track_results['tracks']['items']):\n",
    "        artist_name.append(t['artists'][0]['name'])\n",
    "        track_name.append(t['name'])\n",
    "        track_id.append(t['id'])\n",
    "        popularity.append(t['popularity'])"
   ]
  },
  {
   "cell_type": "code",
   "execution_count": null,
   "metadata": {},
   "outputs": [],
   "source": [
    "acousticness, danceability, duration_ms, energy, instrumentalness = [], [], [], [], []\n",
    "key, liveness, loudness, mode, speechiness = [], [], [], [], []\n",
    "tempo, time_signature, valence = [], [], []\n",
    "\n",
    "for i in range(0, len(track_id), 50):\n",
    "    audio_features = sp.audio_features(track_id[i : i + 50])\n",
    "    for track in audio_features:\n",
    "        acousticness.append(track['acousticness'])\n",
    "        danceability.append(track['danceability'])\n",
    "        duration_ms.append(track['duration_ms'])\n",
    "        energy.append(track['energy'])\n",
    "        instrumentalness.append(track['instrumentalness'])\n",
    "        key.append(track['key'])\n",
    "        liveness.append(track['liveness'])\n",
    "        loudness.append(track['loudness'])\n",
    "        mode.append(track['mode'])\n",
    "        speechiness.append(track['speechiness'])\n",
    "        tempo.append(track['tempo'])\n",
    "        time_signature.append(track['time_signature'])\n",
    "        valence.append(track['valence'])"
   ]
  },
  {
   "cell_type": "code",
   "execution_count": null,
   "metadata": {},
   "outputs": [],
   "source": [
    "data = {'Artist': artist_name, 'Track Name': track_name, 'Track ID': track_id, 'Popularity': popularity,\n",
    "       'Acousticness': acousticness, 'Danceability': danceability, 'Duration_ms': duration_ms, \n",
    "       'Energy': energy, 'Instrumentalness': instrumentalness, 'Key': key, 'Liveness': liveness,\n",
    "       'Loudness': loudness, 'Mode': mode, 'Speechiness': speechiness, 'Tempo': tempo, \n",
    "       'Time Signature': time_signature, 'Valence': valence}\n",
    "\n",
    "spotify_df = pd.DataFrame(data)\n",
    "spotify_df.to_csv(r'data\\songs_2017.csv')"
   ]
  }
 ],
 "metadata": {
  "kernelspec": {
   "display_name": "Python 3",
   "language": "python",
   "name": "python3"
  },
  "language_info": {
   "codemirror_mode": {
    "name": "ipython",
    "version": 3
   },
   "file_extension": ".py",
   "mimetype": "text/x-python",
   "name": "python",
   "nbconvert_exporter": "python",
   "pygments_lexer": "ipython3",
   "version": "3.7.3"
  }
 },
 "nbformat": 4,
 "nbformat_minor": 2
}
