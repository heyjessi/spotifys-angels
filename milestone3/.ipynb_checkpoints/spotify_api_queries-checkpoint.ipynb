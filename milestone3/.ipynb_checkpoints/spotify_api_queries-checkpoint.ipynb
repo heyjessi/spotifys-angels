{
 "cells": [
  {
   "cell_type": "code",
   "execution_count": 1,
   "metadata": {},
   "outputs": [],
   "source": [
    "import spotipy\n",
    "from spotipy.oauth2 import SpotifyClientCredentials\n",
    "import pandas as pd"
   ]
  },
  {
   "cell_type": "code",
   "execution_count": 2,
   "metadata": {},
   "outputs": [],
   "source": [
    "cid = '304f47a7973c446fa4cc490eaec6d061'\n",
    "secret = 'f70927ac3cf14606b2aa54d4217ccf35'\n",
    "\n",
    "client_credentials_manager = SpotifyClientCredentials(client_id = cid, client_secret = secret)\n",
    "sp = spotipy.Spotify(client_credentials_manager = client_credentials_manager)\n",
    "artist_name, track_name, track_id, popularity = [], [], [], []"
   ]
  },
  {
   "cell_type": "code",
   "execution_count": 3,
   "metadata": {},
   "outputs": [],
   "source": [
    "for i in range(0, 100, 50):\n",
    "    track_results = sp.search(q = 'year:2019', type = 'track', limit = 50, offset = i)\n",
    "    audio_features = sp.audio_features(track_id[i : i + 50])\n",
    "    for i, t in enumerate(track_results['tracks']['items']):\n",
    "        artist_name.append(t['artists'][0]['name'])\n",
    "        track_name.append(t['name'])\n",
    "        track_id.append(t['id'])\n",
    "        popularity.append(t['popularity'])"
   ]
  },
  {
   "cell_type": "code",
   "execution_count": 5,
   "metadata": {},
   "outputs": [
    {
     "name": "stdout",
     "output_type": "stream",
     "text": [
      "['4TnjEaWOeW0eKTKIEvJyCa', '3KkXRkHbMCARz0aVfEt68P', '285pBltuF7vW8TeWk8hdRR', '7eBqSVxrzQZtK2mmgRG6lC', '78QR3Wp35dqAhFEc2qAGjE', '2xLMifQCjDGFmkHkpNLD9h', '0rKtyWc8bvkriBthvHKY8d', '0u2P5u6lvoDfwTYjAADbn4', '1wJRveJZLSb1rjhnUHQiv6', '2IRZnDFmlqMuOrYOLnZZyc', '0e7ipj03S05BNilyu5bRzt', '3ee8Jmje8o58CHK66QrVC2', '2rxQMGVafnNaRaXlRMWPde', '7dt6x5M1jzdTEt8oCbisTK', '5p7ujcrUXASCNwRaWNHR1C', '2dpaYNEQHiRxtZbfNsse99', '1VJwtWR6z7SpZRwipI12be', '7zLYKWcXnYeHHWidalz7rj', '4VXIryQMWpIdGgYR4TrjT1', '6foY66mWZN0pSRjZ408c00', '0JP9xo3adEtGSdUEISiszL', '6vN77lE9LK6HP2DewaN6HZ', '1ThmUihH9dF8EV08ku5AXN', '6zeeWid2sgw4lap2jV61PZ', '2t8yVaLvJ0RenpXUIAC52d', '1rqqCSm0Qe4I9rUvWncaom', '5wujBwqG7INdStqGd4tRMX', '3Ol2xnObFdKV9pmRD2t9x8', '0FZ4Dmg8jJJAPJnvBIzD9z', '3GJ4hzg4lrGwU51Y3VARbF', '7AFASza1mXqntmGtbxXprO', '3swc6WTsr7rl9DqQKQA55C', '0TlLq3lA83rQOYtrqBqSct', '4ZLzoOkj0MPWrTLvooIuaa', '75lcPkAkUsKWHGBlGM476R', '6DCZcSspjsKoFjzjrWoCdn', '2cYqizR4lgvp4Qu6IQ3qGN', '1xzBco0xcoJEDXktl7Jxrr', '0d2iYfpKoM0QCKvcLCkBao', '1tNJrcVe6gwLEiZCtprs1u', '3A2yGHWIzmGEIolwonU69h', '58q2HKrzhC3ozto2nDdN4z', '09mEdoA6zrmBPgTEN5qXmN', '4jvjzW7Hm0yK4LvvE0Paz9', '7lAK3oHbfEnvUQWosrMMpR', '1fewSx2d5KIZ04wsooEBOz', '5nzhL67GpF9szXWg5y509A', '698eQRku24PIYPQPHItKlA', '14mHfNsSHN0FbLftyjrV9g', '2iUXsYOEPhVqEBwsqP70rE', '2qxmye6gAegTMjLKEBoR3d', '32lItqlMi4LBhb4k0BaSaC', '18uwL0vNUanqZH0ro2QcOP', '3oDkdAySo1VQQG0ptV7uwa', '09IStsImFySgyp0pIQdqAc', '25sgk305KZfyuqVBQIahim', '5274I4mUMnYczyeXkGDWZN', '4NBTZtAt1F13VvlSKe6KTl', '22oEJW6r2rMb9z4IntfyEa', '7uzmGiiJyRfuViKKK3lVmR', '2GGMabyHXnJmjY6CXhhB2e', '5aXgz1oKK8Q9z9xvTmSnrO', '2qGfZAgDe1pV2y5xJAhi6R', '0hwkukpHcBJfGcIUxi1tK2', '14SaZBTjxlorHJQxXh01Hu', '2BJSMvOGABRxokHKB0OI8i', '3EPXxR3ImUwfayaurPi3cm', '577YBGuskWkVDCxZrLRB4v', '2VxeLyX666F8uXCJ0dZF8B', '5IaHrVsrferBYDm0bDyABy', '3CA9pLiwRIGtUBiMjbZmRw', '3yOs8FffuG6hPbzQG9lIqV', '2G7V7zsVDxg1yRsu7Ew9RJ', '5MwynWK9s4hlyKHqhkNn4A', '116H0KvKr2Zl4RPuVBruDO', '5bJ1DrEM4hNCafcDd1oxHx', '7wBJfHzpfI3032CSD7CE2m', '0lsRatBUs9HNIZAmoGABzk', '4UKCKdYiLN6IMA5ZESUTL7', '4H7WNRErSbONkM06blBoGc', '2B1JaRSd7T7YP90n6sCh9I', '2MShy1GSSgbmGUxADNIao5', '5qHirGR7M9tdm6C17DlzSY', '6rz0dTA0PdhXImFV5EjM0w', '4SWWe2OYC4mqf40Gc2RSdl', '0AluA5RNsa4Cx6XRhf2hWZ', '4qKcDkK6siZ7Jp1Jb4m0aL', '6CTWathupIiDs7U4InHnDA', '4ve2uzqdwnHr20G5YgMMqr', '1n8wr8tRHs5jmBxNWXedcn', '5JEx7HbmvHQQswJCsoo9rA', '3to5UxKsozb4T6CfwHuhLJ', '45Egmo7icyopuzJN0oMEdk', '6Up545NUflOiXo8cEraH49', '27a1mYSG5tYg7dmEjWBcmL', '4dV3okcjbQwTcg4ObIGr4N', '4at3d5QWnlibMVN75ECDrp', '60SdxE8apGAxMiRrpbmLY0', '1VGzxJnVQND7Cg5H5wGj14', '1fCeXjoRExPP2qwSBh2aST']\n",
      "['4TnjEaWOeW0eKTKIEvJyCa', '3KkXRkHbMCARz0aVfEt68P', '285pBltuF7vW8TeWk8hdRR', '7eBqSVxrzQZtK2mmgRG6lC', '78QR3Wp35dqAhFEc2qAGjE', '2xLMifQCjDGFmkHkpNLD9h', '0rKtyWc8bvkriBthvHKY8d', '0u2P5u6lvoDfwTYjAADbn4', '1wJRveJZLSb1rjhnUHQiv6', '2IRZnDFmlqMuOrYOLnZZyc', '0e7ipj03S05BNilyu5bRzt', '3ee8Jmje8o58CHK66QrVC2', '2rxQMGVafnNaRaXlRMWPde', '7dt6x5M1jzdTEt8oCbisTK', '5p7ujcrUXASCNwRaWNHR1C', '2dpaYNEQHiRxtZbfNsse99', '1VJwtWR6z7SpZRwipI12be', '7zLYKWcXnYeHHWidalz7rj', '4VXIryQMWpIdGgYR4TrjT1', '6foY66mWZN0pSRjZ408c00', '0JP9xo3adEtGSdUEISiszL', '6vN77lE9LK6HP2DewaN6HZ', '1ThmUihH9dF8EV08ku5AXN', '6zeeWid2sgw4lap2jV61PZ', '2t8yVaLvJ0RenpXUIAC52d', '1rqqCSm0Qe4I9rUvWncaom', '5wujBwqG7INdStqGd4tRMX', '3Ol2xnObFdKV9pmRD2t9x8', '0FZ4Dmg8jJJAPJnvBIzD9z', '3GJ4hzg4lrGwU51Y3VARbF', '7AFASza1mXqntmGtbxXprO', '3swc6WTsr7rl9DqQKQA55C', '0TlLq3lA83rQOYtrqBqSct', '4ZLzoOkj0MPWrTLvooIuaa', '75lcPkAkUsKWHGBlGM476R', '6DCZcSspjsKoFjzjrWoCdn', '2cYqizR4lgvp4Qu6IQ3qGN', '1xzBco0xcoJEDXktl7Jxrr', '0d2iYfpKoM0QCKvcLCkBao', '1tNJrcVe6gwLEiZCtprs1u', '3A2yGHWIzmGEIolwonU69h', '58q2HKrzhC3ozto2nDdN4z', '09mEdoA6zrmBPgTEN5qXmN', '4jvjzW7Hm0yK4LvvE0Paz9', '7lAK3oHbfEnvUQWosrMMpR', '1fewSx2d5KIZ04wsooEBOz', '5nzhL67GpF9szXWg5y509A', '698eQRku24PIYPQPHItKlA', '14mHfNsSHN0FbLftyjrV9g', '2iUXsYOEPhVqEBwsqP70rE', '2qxmye6gAegTMjLKEBoR3d', '32lItqlMi4LBhb4k0BaSaC', '18uwL0vNUanqZH0ro2QcOP', '3oDkdAySo1VQQG0ptV7uwa', '09IStsImFySgyp0pIQdqAc', '25sgk305KZfyuqVBQIahim', '5274I4mUMnYczyeXkGDWZN', '4NBTZtAt1F13VvlSKe6KTl', '22oEJW6r2rMb9z4IntfyEa', '7uzmGiiJyRfuViKKK3lVmR', '2GGMabyHXnJmjY6CXhhB2e', '5aXgz1oKK8Q9z9xvTmSnrO', '2qGfZAgDe1pV2y5xJAhi6R', '0hwkukpHcBJfGcIUxi1tK2', '14SaZBTjxlorHJQxXh01Hu', '2BJSMvOGABRxokHKB0OI8i', '3EPXxR3ImUwfayaurPi3cm', '577YBGuskWkVDCxZrLRB4v', '2VxeLyX666F8uXCJ0dZF8B', '5IaHrVsrferBYDm0bDyABy', '3CA9pLiwRIGtUBiMjbZmRw', '3yOs8FffuG6hPbzQG9lIqV', '2G7V7zsVDxg1yRsu7Ew9RJ', '5MwynWK9s4hlyKHqhkNn4A', '116H0KvKr2Zl4RPuVBruDO', '5bJ1DrEM4hNCafcDd1oxHx', '7wBJfHzpfI3032CSD7CE2m', '0lsRatBUs9HNIZAmoGABzk', '4UKCKdYiLN6IMA5ZESUTL7', '4H7WNRErSbONkM06blBoGc', '2B1JaRSd7T7YP90n6sCh9I', '2MShy1GSSgbmGUxADNIao5', '5qHirGR7M9tdm6C17DlzSY', '6rz0dTA0PdhXImFV5EjM0w', '4SWWe2OYC4mqf40Gc2RSdl', '0AluA5RNsa4Cx6XRhf2hWZ', '4qKcDkK6siZ7Jp1Jb4m0aL', '6CTWathupIiDs7U4InHnDA', '4ve2uzqdwnHr20G5YgMMqr', '1n8wr8tRHs5jmBxNWXedcn', '5JEx7HbmvHQQswJCsoo9rA', '3to5UxKsozb4T6CfwHuhLJ', '45Egmo7icyopuzJN0oMEdk', '6Up545NUflOiXo8cEraH49', '27a1mYSG5tYg7dmEjWBcmL', '4dV3okcjbQwTcg4ObIGr4N', '4at3d5QWnlibMVN75ECDrp', '60SdxE8apGAxMiRrpbmLY0', '1VGzxJnVQND7Cg5H5wGj14', '1fCeXjoRExPP2qwSBh2aST']\n"
     ]
    }
   ],
   "source": [
    "acousticness, danceability, duration_ms, energy, instrumentalness = [], [], [], [], []\n",
    "key, liveness, loudness, mode, speechiness = [], [], [], [], []\n",
    "tempo, time_signature, valence = [], [], []\n",
    "\n",
    "for i in range(0, len(track_id), 50):\n",
    "    print(track_id)\n",
    "    audio_features = sp.audio_features(track_id[i : i + 50])\n",
    "    for track in audio_features:\n",
    "        acousticness.append(track['acousticness'])\n",
    "        danceability.append(track['danceability'])\n",
    "        duration_ms.append(track['duration_ms'])\n",
    "        energy.append(track['energy'])\n",
    "        instrumentalness.append(track['instrumentalness'])\n",
    "        key.append(track['key'])\n",
    "        liveness.append(track['liveness'])\n",
    "        loudness.append(track['loudness'])\n",
    "        mode.append(track['mode'])\n",
    "        speechiness.append(track['speechiness'])\n",
    "        tempo.append(track['tempo'])\n",
    "        time_signature.append(track['time_signature'])\n",
    "        valence.append(track['valence'])"
   ]
  },
  {
   "cell_type": "code",
   "execution_count": null,
   "metadata": {},
   "outputs": [],
   "source": [
    "data = {'Artist': artist_name, 'Track Name': track_name, 'Track ID': track_id, 'Popularity': popularity,\n",
    "       'Acousticness': acousticness, 'Danceability': danceability, 'Duration_ms': duration_ms, \n",
    "       'Energy': energy, 'Instrumentalness': instrumentalness, 'Key': key, 'Liveness': liveness,\n",
    "       'Loudness': loudness, 'Mode': mode, 'Speechiness': speechiness, 'Tempo': tempo, \n",
    "       'Time Signature': time_signature, 'Valence': valence}\n",
    "\n",
    "spotify_df = pd.DataFrame(data)\n",
    "spotify_df.to_csv(r'data\\songs_120000.csv')"
   ]
  }
 ],
 "metadata": {
  "kernelspec": {
   "display_name": "Python 3",
   "language": "python",
   "name": "python3"
  },
  "language_info": {
   "codemirror_mode": {
    "name": "ipython",
    "version": 3
   },
   "file_extension": ".py",
   "mimetype": "text/x-python",
   "name": "python",
   "nbconvert_exporter": "python",
   "pygments_lexer": "ipython3",
   "version": "3.7.4"
  }
 },
 "nbformat": 4,
 "nbformat_minor": 2
}
